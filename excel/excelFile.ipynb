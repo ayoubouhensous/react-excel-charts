{
 "cells": [
  {
   "cell_type": "code",
   "execution_count": 1,
   "id": "b9369fb9",
   "metadata": {},
   "outputs": [
    {
     "name": "stdout",
     "output_type": "stream",
     "text": [
      "Fichier Excel généré avec succès !\n"
     ]
    }
   ],
   "source": [
    "import pandas as pd\n",
    "\n",
    "# Exemple de données\n",
    "data = {\n",
    "    'Catégorie': ['Électronique', 'Vêtements', 'Alimentation', 'Santé'],\n",
    "    'Valeur': [40, 25, 20, 15]\n",
    "}\n",
    "\n",
    "df = pd.DataFrame(data)\n",
    "\n",
    "# Sauvegarde dans un fichier Excel\n",
    "df.to_excel('donnees_graphique.xlsx', index=False)\n",
    "\n",
    "print(\"Fichier Excel généré avec succès !\")\n"
   ]
  }
 ],
 "metadata": {
  "kernelspec": {
   "display_name": "base",
   "language": "python",
   "name": "python3"
  },
  "language_info": {
   "codemirror_mode": {
    "name": "ipython",
    "version": 3
   },
   "file_extension": ".py",
   "mimetype": "text/x-python",
   "name": "python",
   "nbconvert_exporter": "python",
   "pygments_lexer": "ipython3",
   "version": "3.12.7"
  }
 },
 "nbformat": 4,
 "nbformat_minor": 5
}
